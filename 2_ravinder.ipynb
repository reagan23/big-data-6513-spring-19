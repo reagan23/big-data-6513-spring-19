{
 "cells": [
  {
   "cell_type": "code",
   "execution_count": 1,
   "metadata": {
    "scrolled": true
   },
   "outputs": [],
   "source": [
    "from pyspark import SparkContext\n",
    "from pyspark import HiveContext\n",
    "from pyspark.sql import *\n",
    "from pyspark.sql.session import SparkSession\n",
    "spkcont = SparkContext('local')\n",
    "spksess = SparkSession(spkcont)\n",
    "out = spksess.read.json(\"\\bdata.json\", multiLine=True)"
   ]
  },
  {
   "cell_type": "code",
   "execution_count": 2,
   "metadata": {},
   "outputs": [],
   "source": [
    "gar = out.select('attributes.BusinessParking.gar').collect()[0]['gar']\n",
    "az = out.select('state').collect()[0][\"state\"] == \"AZ\"\n",
    "ntlife = 'Nightlife' in out.select('categories').collect()[0]['categories']"
   ]
  },
  {
   "cell_type": "code",
   "execution_count": 3,
   "metadata": {},
   "outputs": [
    {
     "name": "stdout",
     "output_type": "stream",
     "text": [
      "No garage...\n"
     ]
    }
   ],
   "source": [
    "if az and ntlife and gar:\n",
    "  print(\"all conditions met\")\n",
    "else:\n",
    "  if not az:\n",
    "    print(\"Not there in Ariz0na...\")\n",
    "  if not ntlife:\n",
    "    print(\"No nightlife there...\")\n",
    "  if not gar:\n",
    "    print(\"No garage...\")"
   ]
  },
  {
   "cell_type": "code",
   "execution_count": 4,
   "metadata": {},
   "outputs": [],
   "source": [
    "#part2\n",
    "\n",
    "out.createOrReplaceTempView(\"table\")"
   ]
  },
  {
   "cell_type": "code",
   "execution_count": 5,
   "metadata": {},
   "outputs": [],
   "source": [
    "out2 = spark.sql(\"SELECT * FROM table WHERE state='AZ' AND array_contains(categories, 'Nightlife') AND attributes.BusinessParking.gar\")"
   ]
  },
  {
   "cell_type": "code",
   "execution_count": 6,
   "metadata": {},
   "outputs": [
    {
     "data": {
      "text/plain": [
       "[]"
      ]
     },
     "execution_count": 6,
     "metadata": {},
     "output_type": "execute_result"
    }
   ],
   "source": [
    "out2.collect()"
   ]
  },
  {
   "cell_type": "code",
   "execution_count": 7,
   "metadata": {},
   "outputs": [],
   "source": []
  },
  {
   "cell_type": "code",
   "execution_count": 8,
   "metadata": {},
   "outputs": [],
   "source": []
  }
 ],
 "metadata": {
  "kernelspec": {
   "display_name": "Python 2",
   "language": "python",
   "name": "python2"
  },
  "language_info": {
   "codemirror_mode": {
    "name": "ipython",
    "version": 2
   },
   "file_extension": ".py",
   "mimetype": "text/x-python",
   "name": "python",
   "nbconvert_exporter": "python",
   "pygments_lexer": "ipython2",
   "version": "2.7.16"
  },
  "name": "json_sql",
  "notebookId": 2959273572932862
 },
 "nbformat": 4,
 "nbformat_minor": 1
}
