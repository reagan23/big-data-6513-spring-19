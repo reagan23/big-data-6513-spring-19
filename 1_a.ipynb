{
 "cells": [
  {
   "cell_type": "code",
   "execution_count": 1,
   "metadata": {},
   "outputs": [],
   "source": [
    "from pyspark import SparkContext\n",
    "from pyspark.sql import SQLContext\n",
    "from pyspark import HiveContext\n",
    "from pyspark .sql.window import Window\n",
    "import pyspark.sql.functions as func\n"
   ]
  },
  {
   "cell_type": "code",
   "execution_count": 2,
   "metadata": {},
   "outputs": [
    {
     "name": "stdout",
     "output_type": "stream",
     "text": [
      "+------+--------+------------------+\n",
      "|Months|Sunspots|     roll_avg     |\n",
      "+------+--------+------------------+\n",
      "|     0|    58.0|              60.3|\n",
      "|     1|    62.6| 63.53333333333333|\n",
      "|     2|    70.0| 62.76666666666667|\n",
      "|     3|    55.7| 70.23333333333333|\n",
      "|     4|    85.0| 74.73333333333333|\n",
      "|     5|    83.5| 87.76666666666667|\n",
      "|     6|    94.8| 81.53333333333335|\n",
      "|     7|    66.3|              79.0|\n",
      "|     8|    75.9| 72.56666666666666|\n",
      "|     9|    75.5|103.33333333333333|\n",
      "|    10|   158.6|106.43333333333334|\n",
      "|    11|    85.2|             105.7|\n",
      "|    12|    73.3| 78.13333333333334|\n",
      "|    13|    75.9| 79.46666666666665|\n",
      "|    14|    89.2| 84.46666666666668|\n",
      "|    15|    88.3| 89.16666666666667|\n",
      "|    16|    90.0| 92.76666666666667|\n",
      "|    17|   100.0|              91.8|\n",
      "|    18|    85.4| 96.13333333333333|\n",
      "|    19|   103.0|              93.2|\n",
      "+------+--------+------------------+\n",
      "only showing top 20 rows\n",
      "\n"
     ]
    }
   ],
   "source": [
    "sc = SparkContext()\n",
    "sqlContext = SQLContext(sc)\n",
    "tm = sqlContext.read.format(\"com.databricks.spark.csv\").option(\"header\", \"true\").option(\"inferschema\", \"true\").option(\"delimiter\", \"\\t\").load(\"ravi.csv\")\n",
    "\n",
    "\n",
    "def avg_m(data):\n",
    "    windowspec = Window.orderBy(func.col(\"Months\").cast('long')).rangeBetween(-1, 1)\n",
    "    data.withColumn(\"roll_avg\",func.avg(\"Sunspots\").over(windowspec)).show()\n",
    "\n",
    "\n",
    "avg_m(tm)"
   ]
  },
  {
   "cell_type": "code",
   "execution_count": null,
   "metadata": {},
   "outputs": [],
   "source": []
  }
 ],
 "metadata": {
  "kernelspec": {
   "display_name": "Python 3",
   "language": "python",
   "name": "python3"
  },
  "language_info": {
   "codemirror_mode": {
    "name": "ipython",
    "version": 3
   },
   "file_extension": ".py",
   "mimetype": "text/x-python",
   "name": "python",
   "nbconvert_exporter": "python",
   "pygments_lexer": "ipython3",
   "version": "3.7.1"
  }
 },
 "nbformat": 4,
 "nbformat_minor": 2
}
