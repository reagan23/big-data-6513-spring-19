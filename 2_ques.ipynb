{
 "cells": [
  {
   "cell_type": "code",
   "execution_count": 1,
   "metadata": {
    "scrolled": true
   },
   "outputs": [],
   "source": [
    "from pyspark import SparkContext\n",
    "from pyspark import HiveContext\n",
    "from pyspark.sql import *\n",
    "from pyspark.sql.session import SparkSession\n",
    "sc = SparkContext('local')\n",
    "spark = SparkSession(sc)\n",
    "df = spark.read.json(\"file1.json\", multiLine=True)"
   ]
  },
  {
   "cell_type": "code",
   "execution_count": 2,
   "metadata": {},
   "outputs": [],
   "source": [
    "garage = df.select('attributes.BusinessParking.garage').collect()[0]['garage']\n",
    "arizona = df.select('state').collect()[0][\"state\"] == \"AZ\"\n",
    "nightlife = 'Nightlife' in df.select('categories').collect()[0]['categories']"
   ]
  },
  {
   "cell_type": "code",
   "execution_count": 3,
   "metadata": {},
   "outputs": [
    {
     "name": "stdout",
     "output_type": "stream",
     "text": [
      "Does not have garage\n"
     ]
    }
   ],
   "source": [
    "if arizona and nightlife and garage:\n",
    "  print(\"all conditions met\")\n",
    "else:\n",
    "  if not arizona:\n",
    "    print(\"Not in Arizona\")\n",
    "  if not nightlife:\n",
    "    print(\"No nightlife\")\n",
    "  if not garage:\n",
    "    print(\"Does not have garage\")\n"
   ]
  },
  {
   "cell_type": "code",
   "execution_count": 4,
   "metadata": {},
   "outputs": [],
   "source": [
    "#part2\n",
    "\n",
    "f.createOrReplaceTempView(\"table\")"
   ]
  },
  {
   "cell_type": "code",
   "execution_count": 5,
   "metadata": {},
   "outputs": [],
   "source": [
    "df2 = spark.sql(\"SELECT * FROM table WHERE state='AZ' AND array_contains(categories, 'Nightlife') AND attributes.BusinessParking.garage\")"
   ]
  },
  {
   "cell_type": "code",
   "execution_count": 6,
   "metadata": {},
   "outputs": [
    {
     "data": {
      "text/plain": [
       "[]"
      ]
     },
     "execution_count": 6,
     "metadata": {},
     "output_type": "execute_result"
    }
   ],
   "source": [
    "df2.collect()"
   ]
  },
  {
   "cell_type": "code",
   "execution_count": 7,
   "metadata": {},
   "outputs": [],
   "source": []
  },
  {
   "cell_type": "code",
   "execution_count": 8,
   "metadata": {},
   "outputs": [],
   "source": []
  }
 ],
 "metadata": {
  "kernelspec": {
   "display_name": "Python 3",
   "language": "python",
   "name": "python3"
  },
  "language_info": {
   "codemirror_mode": {
    "name": "ipython",
    "version": 3
   },
   "file_extension": ".py",
   "mimetype": "text/x-python",
   "name": "python",
   "nbconvert_exporter": "python",
   "pygments_lexer": "ipython3",
   "version": "3.7.3"
  },
  "name": "json_sql",
  "notebookId": 3282959273572962
 },
 "nbformat": 4,
 "nbformat_minor": 1
}
